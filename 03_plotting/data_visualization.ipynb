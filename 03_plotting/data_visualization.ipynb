{
 "cells": [
  {
   "cell_type": "markdown",
   "metadata": {},
   "source": [
    "## Create custom Plots from your dataset\n",
    "The intend of this markdown is to provide you with the tools you need to visualize your data by selecting in a custom fassion the plots you want to create and the relationships you want to visualize.\n",
    "\n",
    "### Table of Contents\n",
    "- [First Steps](#first-steps)\n",
    "    - [Import your Data](#import-your-data)\n",
    "    - [Examine and Clean your Data](#clean-your-data)\n",
    "- [Create Qualitative Plots](#create-qualitative-plots)\n",
    "- [Create Quantitative Plots](#create-quantitative-plots)\n",
    "    - [Create a Scatterplot Matrix to visualize the all realtionships in your data](#create-a-scatterplot-matrix-to-visualize-the-all-realtionships-in-your-data)\n",
    "- [Plotly Interface](#plotly-interface)"
   ]
  },
  {
   "cell_type": "markdown",
   "metadata": {},
   "source": [
    "# First Steps\n"
   ]
  },
  {
   "cell_type": "markdown",
   "metadata": {},
   "source": [
    "### Import your Data"
   ]
  },
  {
   "cell_type": "code",
   "execution_count": 1,
   "metadata": {},
   "outputs": [],
   "source": [
    "from matplotlib import image\n",
    "import seaborn as sns\n",
    "import pandas as pd\n",
    "import rospkg\n",
    "import os\n",
    "import numpy as np\n",
    "import matplotlib.pyplot as plt"
   ]
  },
  {
   "cell_type": "markdown",
   "metadata": {},
   "source": [
    "- read in the data"
   ]
  },
  {
   "cell_type": "code",
   "execution_count": 2,
   "metadata": {},
   "outputs": [],
   "source": [
    "path = rospkg.RosPack().get_path('arena-evaluation') + '/03_plotting'\n",
    "data = pd.read_excel(path+'/emgbr.xlsx', usecols = \"ae:ag\", skiprows=range(0,2893))"
   ]
  },
  {
   "cell_type": "code",
   "execution_count": 17,
   "metadata": {},
   "outputs": [],
   "source": [
    "path = rospkg.RosPack().get_path('arena-evaluation') + '/02_evaluation'\n",
    "data = pd.read_feather(path+'/data.ftr')\n",
    "# data_3d = pd.read_feather(path+'/data_3d.ftr')"
   ]
  },
  {
   "cell_type": "markdown",
   "metadata": {},
   "source": [
    "- select the relevant rows and columns"
   ]
  },
  {
   "cell_type": "code",
   "execution_count": 32,
   "metadata": {},
   "outputs": [
    {
     "data": {
      "text/plain": [
       "Planner             object\n",
       "Robot and World     object\n",
       "Collision          float64\n",
       "dtype: object"
      ]
     },
     "execution_count": 32,
     "metadata": {},
     "output_type": "execute_result"
    }
   ],
   "source": [
    "data.dtypes"
   ]
  },
  {
   "cell_type": "code",
   "execution_count": 51,
   "metadata": {},
   "outputs": [],
   "source": [
    "# data_3d['category'] = 'None'\n",
    "# data_2d['category'] = 'None'\n",
    "# data_3d.loc[data_3d.vel.notnull(),['category']] = 'var'\n",
    "# data_2d.loc[data_2d.vel.notnull(),['category']] = 'var'\n",
    "# data_3d.loc[data_3d.path_length.notnull(),['category']] = 'med'\n",
    "# data_2d.loc[data_2d.path_length.notnull(),['category']] = 'med'\n",
    "# data_2d = data_2d.loc[data_2d.category == 'med',:]\n",
    "# data_3d = data_3d.loc[data_3d.category == 'med',:]\n",
    "# data_2d_quali = data_2d.iloc[:,1:18]\n",
    "# data_3d_quali = data_3d.iloc[:,1:18]\n",
    "# data_2d_quali['dim'] = '2d'\n",
    "# data_3d_quali['dim'] = '3d'\n",
    "# data = data_3d_quali.append(data_2d_quali)\n",
    "data = data.iloc[0:24,:]\n",
    "data = data.sort_values(by=['Collision'],  ascending=True)"
   ]
  },
  {
   "cell_type": "markdown",
   "metadata": {},
   "source": [
    "- datatypes\n",
    "\n",
    "When visualizing the data (and to reduce the overall size of the file), it is advisable to convert the data type of the columns to a suitable data type. Some example codelines can be found below:"
   ]
  },
  {
   "cell_type": "code",
   "execution_count": 21,
   "metadata": {},
   "outputs": [],
   "source": [
    "data.Robot = data.Robot.astype('string')\n",
    "data.Robot = data.Robot.replace({'turtlebot3_burger': 'burger'})\n",
    "data.Robot = data.Robot.astype('category')\n",
    "data.done_reason = data.done_reason.astype('category')\n",
    "# data.dim = data.dim.astype('category')\n",
    "data.done_reason = data.done_reason.astype(\"category\")\n",
    "# data.success = data.success.astype('int8')\n",
    "# data = data[data.time<190]\n",
    "# data = data.loc[~((data.Planner =='rosnav') & (data.Robot == 'youbot'))]"
   ]
  },
  {
   "cell_type": "markdown",
   "metadata": {},
   "source": [
    "- visualize your data\n",
    "\n",
    "The following tool provides you with a gui interface for working with pandas df, allowing you to view your data and convert created graphics into python or html"
   ]
  },
  {
   "cell_type": "code",
   "execution_count": 35,
   "metadata": {},
   "outputs": [
    {
     "name": "stderr",
     "output_type": "stream",
     "text": [
      "PandasGUI INFO — pandasgui.gui — Opening PandasGUI\n"
     ]
    },
    {
     "data": {
      "text/plain": [
       "<pandasgui.gui.PandasGui at 0x7f66f0bca4c0>"
      ]
     },
     "execution_count": 35,
     "metadata": {},
     "output_type": "execute_result"
    }
   ],
   "source": [
    "import plotly.express as px\n",
    "from pandasgui import show\n",
    "\n",
    "show(data)"
   ]
  },
  {
   "cell_type": "markdown",
   "metadata": {},
   "source": [
    "### Examine and Clean your Data\n",
    "when working with the robotics simulation it is vital to clean and check your data before visualizing it, since it is not unlikely that your simulation data migh be defective. Check for the following anomalies:\n",
    "\n",
    "- outliers\n",
    "\n",
    "Wrong values in your dataset can, if not detected, seriously impact the evaluation accuracy. \n",
    "There are a number of different ways to check your data for outliers. As these must be choosen on a case by case basis, we provide here only a helpful selection.\n"
   ]
  },
  {
   "cell_type": "code",
   "execution_count": null,
   "metadata": {},
   "outputs": [],
   "source": [
    "# visualize your data\n",
    "# pd.plotting.scatter_matrix(data[1:max(data['episode'])],alpha=1., figsize=[15,15]);"
   ]
  },
  {
   "cell_type": "code",
   "execution_count": 65,
   "metadata": {},
   "outputs": [],
   "source": [
    "# deselect outliers:\n",
    "# data = data.loc[data.jerk < .8]\n",
    "# data = data.loc[data.collision < 20]\n",
    "# data = data.loc[data.angle_over_length < 50]\n",
    "# data = data.loc[data.time < .8]"
   ]
  },
  {
   "cell_type": "markdown",
   "metadata": {},
   "source": [
    "- equal number of elements in the dataset:\n",
    "\n",
    "If you use this notebook to compare datasets, it is important that the datasets have the same length, as otherwise the quantitative measures can become defective. Make sure you have an equal amout of values of the combinations: `robot`+`planner`+`obs`+`world`"
   ]
  },
  {
   "cell_type": "code",
   "execution_count": null,
   "metadata": {},
   "outputs": [],
   "source": [
    "# either import to an external tool:\n",
    "# data.to_excel('data.xlsx')\n",
    "\n",
    "# or check within the notebook:\n",
    "# len(data.loc[data.dim == '2d'])"
   ]
  },
  {
   "cell_type": "markdown",
   "metadata": {},
   "source": [
    "- Get a better understanding of your data with a scatter matrix\n",
    "This will enable you to identify correlations and outliers"
   ]
  },
  {
   "cell_type": "code",
   "execution_count": null,
   "metadata": {},
   "outputs": [],
   "source": [
    "pd.plotting.scatter_matrix(data,figsize=(20,20));"
   ]
  },
  {
   "cell_type": "markdown",
   "metadata": {},
   "source": [
    "# Create Qualitative Plots\n",
    "Qualitative plots visualize the paths, taken by the robot in the simulated world."
   ]
  },
  {
   "cell_type": "code",
   "execution_count": null,
   "metadata": {},
   "outputs": [],
   "source": [
    "def get_qualitative_plots(self):\n",
    "    os.mkdir(self.plot_dir + \"/qualitative_plots\")\n",
    "    ### iteration part ###\n",
    "    for map in self.maps:\n",
    "        map_keys = [] # list of keys with current map\n",
    "        map_path = self.maps_dict[map]\n",
    "        with open(map_path+\"/map.yaml\") as file: # get map file from map.yaml in map directory\n",
    "            map_yaml = yaml.safe_load(file)\n",
    "            map_file = map_yaml[\"image\"]\n",
    "            map_resolution = map_yaml[\"resolution\"]\n",
    "            map_origin = map_yaml[\"origin\"]\n",
    "        for key in self.keys:\n",
    "            if self.data[key][\"map\"] == map:\n",
    "                map_keys.append(key) # append key if map matches current map\n",
    "        for velocity in self.velocities:\n",
    "            vel_keys = [] # list of keys with current velocity\n",
    "            for key in map_keys:\n",
    "                if self.data[key][\"velocity\"] == velocity:\n",
    "                    vel_keys.append(key) # append key if velocity matches current velocity\n",
    "            for obstacle_number in self.obstacle_numbers:\n",
    "                obs_keys = [] # list of keys with the current obstacle number\n",
    "                for key in vel_keys:\n",
    "                    if self.data[key][\"obstacle_number\"] == obstacle_number:\n",
    "                        obs_keys.append(key) # append key if obstacle_number matches current obstacle_number\n",
    "\n",
    "                if len(obs_keys) == 0:\n",
    "                    continue\n",
    "\n",
    "                ### plotting part ###\n",
    "                fig, ax = plt.subplots()\n",
    "\n",
    "                # plot map image\n",
    "                img= image.imread(\"{0}/{1}\".format(map_path,map_file))\n",
    "                img_rotated = ndimage.rotate(img, 90, reshape=True) # rotate by 90 degree to get rviz konvention\n",
    "                plt.imshow(img_rotated, cmap=\"gray\")\n",
    "\n",
    "                # plot each planners path and if flag given collisions and zones\n",
    "                for key in sorted(obs_keys):\n",
    "                    # plot paths for every episode\n",
    "                    planner = self.data[key][\"planner\"]\n",
    "                    if planner in self.config[\"leave_out_planner\"]:\n",
    "                        continue\n",
    "                    paths = self.data[key][\"paths_travelled\"]\n",
    "                    episodes = paths.keys()\n",
    "                    for i,episode in enumerate(episodes):\n",
    "                        if i == 0:\n",
    "                            if \"3d\" in planner:\n",
    "                                plt.plot([],[], # plot legend only with empty lines\n",
    "                                \"--\",\n",
    "                                label = self.config[\"labels\"][planner],\n",
    "                                alpha = self.config[\"path_3D_alpha\"],\n",
    "                                color = self.config[\"color_scheme\"][planner],\n",
    "                                linewidth = 2)\n",
    "                            else:\n",
    "                                plt.plot([],[], # plot legend only with empty lines\n",
    "                                \"-\",\n",
    "                                label = self.config[\"labels\"][planner],\n",
    "                                color = self.config[\"color_scheme\"][planner],\n",
    "                                linewidth = 2)                                    \n",
    "\n",
    "                        x,y = to_ros_coords(paths[episode], img, map_resolution, map_origin)\n",
    "                        x = x[3:-3] # NOTE: sometimes episode is wrongly assigned _> skip first and last coordinates\n",
    "                        y = y[3:-3]\n",
    "                        if \"3d\" in planner:\n",
    "                            plt.plot(x,y,\n",
    "                            \"--\",\n",
    "                            color = self.config[\"color_scheme\"][planner],\n",
    "                            alpha = self.config[\"path_3D_alpha\"],\n",
    "                            linewidth = self.config[\"path_size\"]/map_resolution,zorder=1)\n",
    "                        else:\n",
    "                            plt.plot(x,y,\n",
    "                            \"-\",\n",
    "                            color = self.config[\"color_scheme\"][planner],\n",
    "                            alpha = self.config[\"path_alpha\"],\n",
    "                            linewidth = self.config[\"path_size\"]/map_resolution,zorder=1)\n",
    "\n",
    "                        if self.config[\"plot_progression\"]:\n",
    "                            x_progression = x[0::self.config[\"plot_progression_steps\"]]\n",
    "                            y_progression = y[0::self.config[\"plot_progression_steps\"]]\n",
    "                            plt.scatter(x_progression,y_progression,\n",
    "                            color = self.config[\"color_scheme\"][planner],\n",
    "                            alpha = self.config[\"path_alpha\"],\n",
    "                            s = self.config[\"plot_progression_size\"]/map_resolution,zorder=1)\n",
    "\n",
    "                    # plot collisions\n",
    "                    if self.config[\"plot_collisions\"]:\n",
    "                        collisions = self.data[key][\"collision_zones\"][\"collisions\"]\n",
    "                        if len(collisions) != 0:\n",
    "                            x,y = to_ros_coords(collisions, img, map_resolution, map_origin)\n",
    "                            plt.scatter(x,y,\n",
    "                                color = self.config[\"color_scheme\"][planner],\n",
    "                                alpha = self.config[\"collision_alpha\"],\n",
    "                                s = self.config[\"collision_size\"]/map_resolution,zorder=2)\n",
    "                    # plot collision zones and centroids\n",
    "                    if self.config[\"plot_collision_zones\"]:\n",
    "                        centroids = self.data[key][\"collision_zones\"][\"centroids\"]\n",
    "                        if len(centroids) != 0:\n",
    "                            counts = self.data[key][\"collision_zones\"][\"counts\"]\n",
    "                            x,y = to_ros_coords(centroids, img, map_resolution, map_origin)\n",
    "                            plt.scatter(x,y,\n",
    "                                color = self.config[\"color_scheme\"][planner],\n",
    "                                alpha = self.config[\"collision_alpha\"],\n",
    "                                s = self.config[\"collision_size\"]/map_resolution,zorder=2)\n",
    "                            for i,centroid in enumerate(centroids):\n",
    "                                # plot circle for collision zone\n",
    "                                ax.add_patch(plt.Circle(tuple(to_ros_coords(centroid, img, map_resolution, map_origin)),\n",
    "                                radius = self.config[\"collision_zone_base_diameter\"]*counts[i]/map_resolution,\n",
    "                                color=self.config[\"color_scheme\"][planner],\n",
    "                                fill=False,zorder=2))\n",
    "                                # plot transparent circle as background of zone\n",
    "                                ax.add_patch(plt.Circle(tuple(to_ros_coords(centroid, img, map_resolution, map_origin)),\n",
    "                                radius = self.config[\"collision_zone_base_diameter\"]*counts[i]/map_resolution,\n",
    "                                color=self.config[\"color_scheme\"][planner],\n",
    "                                fill=True,\n",
    "                                alpha = self.config[\"collision_zone_alpha\"],zorder=2))\n",
    "\n",
    "                # plot scenario properties (start, goal, dynamic obstacles)\n",
    "                self.plot_scenario(obs_keys, img,  map_resolution, map_origin)\n",
    "\n",
    "                # plot legend, title, axes labels\n",
    "                if self.config[\"plot_qualitative_legend\"]:\n",
    "                    plt.legend(loc=self.config[\"plot_qualitative_legend_location\"], fontsize=self.config[\"plot_qualitative_legend_fontsize\"])\n",
    "                else:\n",
    "                    plt.legend(loc=self.config[\"plot_qualitative_legend_location\"], fontsize=self.config[\"plot_qualitative_legend_fontsize\"])\n",
    "                    ax.get_legend().remove()\n",
    "                if self.config[\"plot_qualitative_title\"]:\n",
    "                    if obstacle_number == \"base_obstacle_number\" and velocity == \"base_velocity\":\n",
    "                        plt.title(\"Map: {0}\".format(map), fontsize = self.config[\"plot_qualitative_title_size\"], fontweight = \"bold\")\n",
    "                    elif obstacle_number == \"base_obstacle_number\":\n",
    "                        plt.title(\"Map: {0} Velocity: {1}.{2}\".format(map, velocity.replace(\"vel\",\"\")[0], velocity.replace(\"vel\",\"\")[1]), fontsize = self.config[\"plot_qualitative_title_size\"], fontweight = \"bold\")\n",
    "                    elif velocity == \"base_velocity\":\n",
    "                        plt.title(\"Map: {0}\\n Obstacles: {1}\".format(map, int(obstacle_number.replace(\"obs\",\"\"))), fontsize = self.config[\"plot_qualitative_title_size\"], fontweight = \"bold\")\n",
    "                    else:\n",
    "                        plt.title(\"Map: {0}\\n Obstacles: {1} Velocity: {1}.{2} \".format(map, int(obstacle_number.replace(\"obs\",\"\")), velocity.replace(\"vel\",\"\")[0], velocity.replace(\"vel\",\"\")[1]), fontsize = self.config[\"plot_qualitative_title_size\"], fontweight = \"bold\")\n",
    "                if self.config[\"plot_qualitative_axes\"]:\n",
    "                    plt.xlabel(\"x in [m]\", fontsize=self.config[\"plot_qualitative_axes_size\"])\n",
    "                    plt.ylabel(\"y in [m]\", fontsize=self.config[\"plot_qualitative_axes_size\"])\n",
    "                    x_locs = ax.get_xticks()[1:-1]\n",
    "                    y_locs = ax.get_yticks()[1:-1]\n",
    "                    ax.set_xticks(x_locs)\n",
    "                    ax.set_xticklabels([int(x*map_resolution) for x in x_locs])\n",
    "                    ax.set_yticks(y_locs)\n",
    "                    ax.set_yticklabels([int(y*map_resolution) for y in y_locs])\n",
    "                    ax.tick_params(axis='both', which='major', labelsize=self.config[\"plot_qualitative_axes_ticks_size\"])\n",
    "                else:\n",
    "                    x_locs = ax.get_xticks()[1:-1]\n",
    "                    y_locs = ax.get_yticks()[1:-1]\n",
    "                    ax.set_xticks(x_locs)\n",
    "                    ax.set_yticks(y_locs)\n",
    "                    ax.set_xticklabels([])\n",
    "                    ax.set_yticks(y_locs)\n",
    "                    ax.set_yticklabels([])\n",
    "\n",
    "                # plt.xlim(right=(100+100)/map_resolution)\n",
    "                # plt.ylim(bottom=(100+100)/map_resolution)\n",
    "\n",
    "                plt.savefig(self.plot_dir + \"/qualitative_plots/qualitative_plot_{0}_{1}_{2}\".format(map,obstacle_number,velocity), bbox_inches='tight',dpi=200)\n",
    "                fig.clear(True)\n",
    "                plt.close()\n",
    "\n",
    "def plot_scenario(self, keys, img,  map_resolution, map_origin):\n",
    "    scenario_dir = rospkg.RosPack().get_path('simulator_setup') + \"/scenarios\"\n",
    "    scenario_dict = {x.split(\"/\")[-1].replace(\".json\",\"\"):x for x in sorted(glob.glob(\"{0}/*.json\".format(scenario_dir)))}\n",
    "    for scene in sorted(scenario_dict.keys()): # check if a map in /simulator_setup/maps fits scenario name\n",
    "        if scene in keys[0]:\n",
    "            scenario_path = scenario_dict[scene]\n",
    "    with open(scenario_path) as file:\n",
    "        scenario = json.load(file)\n",
    "    if \"pedsim_agents\" in scenario.keys():\n",
    "        dynamic_obstacles = scenario[\"pedsim_agents\"]\n",
    "        obstacle_paths = [[obstacle[\"pos\"]]+ obstacle[\"waypoints\"] for obstacle in dynamic_obstacles]\n",
    "        start_x, start_y = to_ros_coords(scenario[\"robot_position\"], img, map_resolution, map_origin)\n",
    "        goal_x, goal_y = to_ros_coords(scenario[\"robot_goal\"], img, map_resolution, map_origin)\n",
    "        obstacle_paths = transform_waypoints(obstacle_paths, img, map_resolution, map_origin, ped_sim=True)\n",
    "    else:\n",
    "        start = scenario[\"scenarios\"][0][\"robot\"][\"start_pos\"]\n",
    "        goal = scenario[\"scenarios\"][0][\"robot\"][\"goal_pos\"]\n",
    "        dynamic_obstacles = scenario[\"scenarios\"][0][\"dynamic_obstacles\"]\n",
    "        obstacle_paths = [[dynamic_obstacles[obstacle][\"start_pos\"][:-1]]+[waypoint[:-1] for waypoint in dynamic_obstacles[obstacle][\"waypoints\"]] for obstacle in dynamic_obstacles]\n",
    "        start_x, start_y = to_ros_coords(start, img, map_resolution, map_origin)\n",
    "        goal_x, goal_y = to_ros_coords(goal, img, map_resolution, map_origin)\n",
    "        obstacle_paths = transform_waypoints(obstacle_paths, img, map_resolution, map_origin)\n",
    "\n",
    "    # plot start point and goal\n",
    "    # labels for legend only\n",
    "    plt.scatter([],[], marker = self.config[\"start_marker\"], label = \"Start\", color = self.config[\"start_point_color\"])\n",
    "    plt.scatter([],[], marker = self.config[\"goal_marker\"], label = \"Goal\", color = self.config[\"goal_point_color\"])\n",
    "    # start and goal point\n",
    "    plt.scatter(start_x,start_y, marker = self.config[\"start_marker\"], s = self.config[\"start_size\"]/map_resolution, color = self.config[\"start_point_color\"],zorder=5)\n",
    "    plt.scatter(goal_x,goal_y, marker = self.config[\"goal_marker\"], s = self.config[\"goal_size\"]/map_resolution, facecolors = \"none\", edgecolors = self.config[\"goal_point_color\"],zorder=5)\n",
    "\n",
    "    # plot dynamic obstacle path\n",
    "    for path in obstacle_paths:\n",
    "        # plot waypoints as circles\n",
    "        for i,waypoint in enumerate(path):\n",
    "            plt.gca().add_patch(plt.Circle(waypoint,\n",
    "                radius = self.config[\"obstacle_radius\"]/map_resolution,\n",
    "                color=self.config[\"obstacle_color\"],\n",
    "                fill=False,zorder=5))\n",
    "            if i == len(path)-1:\n",
    "                continue\n",
    "            plt.gca().add_patch(patches.FancyArrowPatch(waypoint, path[i+1], arrowstyle='<->', mutation_scale = self.config[\"path_arrow_size\"], color = self.config[\"path_arrow_color\"],zorder=5))"
   ]
  },
  {
   "cell_type": "markdown",
   "metadata": {},
   "source": [
    "# Create Quantitative Plots\n",
    "Quantitative Plots quantify the performance of planner and robots etc. during the simulation runs. Jump to the section of the respective plot of interest."
   ]
  },
  {
   "cell_type": "code",
   "execution_count": null,
   "metadata": {},
   "outputs": [],
   "source": []
  },
  {
   "cell_type": "markdown",
   "metadata": {},
   "source": [
    "### Create a Scatterplot Matrix to visualize the all realtionships in your data"
   ]
  },
  {
   "cell_type": "code",
   "execution_count": null,
   "metadata": {},
   "outputs": [],
   "source": [
    "https://seaborn.pydata.org/examples/scatterplot_matrix.html"
   ]
  },
  {
   "cell_type": "markdown",
   "metadata": {},
   "source": [
    "### Violine Plot"
   ]
  },
  {
   "cell_type": "code",
   "execution_count": null,
   "metadata": {},
   "outputs": [],
   "source": [
    "### scatter bar plot\n",
    "fig, ax =plt.subplots(1,3, figsize = (15,4))\n",
    "for j,i in enumerate(performance_predictor_cont[:3]):\n",
    "    sns.set_theme(style=\"ticks\")\n",
    "    sns.boxplot(data=data, x=i, y='dim', whis=[0, 100], width=.6, palette=\"vlag\", ax=ax[j])\n",
    "    sns.stripplot(data=data, x=i, y='dim', size=3, color=\".3\", linewidth=0, ax=ax[j])\n",
    "fig.savefig('23_add_metrics_bar-scatter1.svg')\n",
    "\n",
    "fig, ax =plt.subplots(1,3, figsize = (15,4))\n",
    "for j,i in enumerate(performance_predictor_cont[3:]):\n",
    "    sns.set_theme(style=\"ticks\")\n",
    "    sns.boxplot(data=data, x=i, y='dim', whis=[0, 100], width=.6, palette=\"vlag\", ax=ax[j])\n",
    "    sns.stripplot(data=data, x=i, y='dim', size=3, color=\".3\", linewidth=0, ax=ax[j])\n",
    "fig.savefig('23_add_metrics_bar-scatter2.svg')"
   ]
  },
  {
   "cell_type": "markdown",
   "metadata": {},
   "source": [
    "### Violine Plots"
   ]
  },
  {
   "cell_type": "code",
   "execution_count": null,
   "metadata": {},
   "outputs": [],
   "source": [
    "### box violin plot\n",
    "fig, ax =plt.subplots(1,3, figsize = (15,4))\n",
    "for j,i in enumerate(performance_predictor_cont[:3]):\n",
    "    sns.boxenplot(data=data, x=i, y=\"dim\", ax=ax[j], color=\"b\", scale=\"linear\")\n",
    "\n",
    "fig, ax =plt.subplots(1,3, figsize = (15,4))\n",
    "for j,i in enumerate(performance_predictor_cont[3:]):\n",
    "    sns.boxenplot(data=data, x=i, y=\"dim\", ax=ax[j], color=\"b\", scale=\"linear\")"
   ]
  },
  {
   "cell_type": "code",
   "execution_count": null,
   "metadata": {},
   "outputs": [],
   "source": [
    "### violin plot\n",
    "fig, ax =plt.subplots(1,3, figsize = (15,4))\n",
    "for j,i in enumerate(performance_predictor_cont[:3]):\n",
    "        g = sns.violinplot(data=data, x=i, y=\"dim\", ax=ax[j], bw=.1, cut=4, linewidth=1, inner='quartile')\n",
    "        plt.setp(g.collections, alpha=.3)\n",
    "\n",
    "fig, ax =plt.subplots(1,3, figsize = (15,4))\n",
    "for j,i in enumerate(performance_predictor_cont[3:]):\n",
    "        sns.violinplot(data=data, x=i, y=\"dim\", ax=ax[j], bw=.1, cut=4, linewidth=1, inner='quartile')\n",
    "        sns.stripplot(data=data, x=i, y='dim', size=1, color=\".3\", linewidth=0, ax=ax[j])"
   ]
  },
  {
   "cell_type": "markdown",
   "metadata": {},
   "source": [
    "### Scatter Plots"
   ]
  },
  {
   "cell_type": "code",
   "execution_count": null,
   "metadata": {},
   "outputs": [],
   "source": [
    "### different scatter plot\n",
    "fig, ax =plt.subplots(3,1, figsize = (15,4))\n",
    "for j,i in enumerate(performance_predictor_cont[:3]):\n",
    "    g = sns.catplot(x=i, y='dim', kind=\"box\", orient=\"h\", height=1.5, aspect=4, data=data, ax=ax[j])\n",
    "fig.savefig('23_add_metrics_bar-bar1.svg')\n",
    "\n",
    "\n",
    "fig, ax =plt.subplots(3,1, figsize = (15,4))\n",
    "for j,i in enumerate(performance_predictor_cont[3:]):\n",
    "    g = sns.catplot(x=i, y='dim', kind=\"box\", orient=\"h\", height=1.5, aspect=4, data=data, ax=ax[j])\n",
    "fig.savefig('23_add_metrics_bar-bar2.svg')"
   ]
  },
  {
   "cell_type": "code",
   "execution_count": null,
   "metadata": {},
   "outputs": [],
   "source": [
    "sys = list(data.sys)\n",
    "sns.set_style(\"white\")\n",
    "sns.set_style(\"ticks\")\n",
    "relevant_params = ['time', 'success', 'collision', 'vel', 'path_length']\n",
    "\n",
    "g = sns.catplot(data=data, x='sys', y='collision', hue=\"Planner\", capsize=.2, height=6, aspect=.75,\n",
    "                kind=\"point\", dodge=True,)"
   ]
  },
  {
   "cell_type": "code",
   "execution_count": 36,
   "metadata": {},
   "outputs": [
    {
     "data": {
      "text/plain": [
       "Planner             object\n",
       "Robot and World     object\n",
       "Collision          float64\n",
       "dtype: object"
      ]
     },
     "execution_count": 36,
     "metadata": {},
     "output_type": "execute_result"
    }
   ],
   "source": [
    "data.dtypes"
   ]
  },
  {
   "cell_type": "code",
   "execution_count": 53,
   "metadata": {},
   "outputs": [],
   "source": [
    "data['idx']=data.index"
   ]
  },
  {
   "cell_type": "code",
   "execution_count": 6,
   "metadata": {},
   "outputs": [
    {
     "data": {
      "image/png": "[encoded data removed]",
      "text/plain": [
       "<Figure size 432x288 with 1 Axes>"
      ]
     },
     "metadata": {},
     "output_type": "display_data"
    }
   ],
   "source": [
    "sns.set_style(\"white\")\n",
    "sns.set_style(\"ticks\")\n",
    "test = {'Planner':['Youbot', 'Burger', 'Jackal'], 'Collision': [.54, .69, .86]}\n",
    "g = sns.barplot(data=test, x=\"Planner\", y='Collision',  dodge=False) \n",
    "g.figure.savefig('bar-col-prob-planner.svg')"
   ]
  },
  {
   "cell_type": "code",
   "execution_count": 57,
   "metadata": {},
   "outputs": [
    {
     "data": {
      "image/png": "[encoded data removed]",
      "text/plain": [
       "<Figure size 437.5x360 with 1 Axes>"
      ]
     },
     "metadata": {},
     "output_type": "display_data"
    }
   ],
   "source": [
    "sns.set_style(\"white\")\n",
    "sns.set_style(\"ticks\")\n",
    "\n",
    "g = sns.relplot(data=data, x='idx',  y=data.sort_values(by=['Collision'],  ascending=True).Collision, hue=\"Planner\", style=\"Planner\", kind=\"scatter\")\n",
    "g.savefig('scatter-col-prob.svg')"
   ]
  },
  {
   "cell_type": "markdown",
   "metadata": {},
   "source": [
    "### Boxplots"
   ]
  },
  {
   "cell_type": "code",
   "execution_count": null,
   "metadata": {},
   "outputs": [],
   "source": [
    "sns.set_theme(style=\"ticks\")\n",
    "\n",
    "# Initialize the figure with a logarithmic x axis\n",
    "f, ax = plt.subplots(figsize=(7, 6))\n",
    "\n",
    "# Load the example planets dataset\n",
    "\n",
    "# Plot the orbital period with horizontal boxes\n",
    "sns.boxplot(x=robot, y=time, whis=[0, 100], width=.6, palette=\"vlag\")\n",
    "\n",
    "# Add in points to show each observation\n",
    "sns.stripplot(x=robot, y=time, size=4, color=\".3\", linewidth=0)\n",
    "\n",
    "# Tweak the visual presentation\n",
    "ax.xaxis.grid(True)\n",
    "ax.set(ylabel=\"\")\n",
    "sns.despine(trim=True, left=True)"
   ]
  },
  {
   "cell_type": "code",
   "execution_count": 4,
   "metadata": {},
   "outputs": [],
   "source": [
    "performance_predictor_dis = ['success', 'collision']\n",
    "performance_predictor_cont = ['normalized_curvature', 'roughness', 'path_length', 'angle_over_length', 'jerk', 'vel', 'time']"
   ]
  },
  {
   "cell_type": "code",
   "execution_count": null,
   "metadata": {},
   "outputs": [],
   "source": [
    "# for i in performance_predictor:\n",
    "#     sns.set_theme(style=\"ticks\")\n",
    "#     f, ax = plt.subplots(figsize=(7, 6))\n",
    "#     sns.boxplot(data=data, x='dim', y=i, whis=[0, 100], width=.6, palette=\"vlag\")\n",
    "#     sns.stripplot(data=data, x='dim', y=i, size=7, color=\".3\", linewidth=0)\n",
    "#     ax.xaxis.grid(True)\n",
    "#     ax.set(ylabel=\"\")"
   ]
  },
  {
   "cell_type": "code",
   "execution_count": 8,
   "metadata": {},
   "outputs": [
    {
     "data": {
      "image/png": "[encoded data removed]",
      "text/plain": [
       "<Figure size 936x360 with 2 Axes>"
      ]
     },
     "metadata": {},
     "output_type": "display_data"
    }
   ],
   "source": [
    "import seaborn as sns\n",
    "sns.set_theme(style=\"whitegrid\")\n",
    "\n",
    "fig, ax =plt.subplots(1,2, figsize = (13,5))\n",
    "for j,i in enumerate(performance_predictor_dis):\n",
    "    sns.barplot(data=data, x=\"dim\", y=i, ax=ax[j], ci=68, palette=\"dark\", alpha=.6, dodge=False) # in a 68 confidence intervall\n",
    "\n",
    "# fig.savefig('23_suc_col.svg')"
   ]
  },
  {
   "cell_type": "markdown",
   "metadata": {},
   "source": [
    "### Bar Plots"
   ]
  },
  {
   "cell_type": "code",
   "execution_count": null,
   "metadata": {},
   "outputs": [],
   "source": [
    "### bar plot\n",
    "fig, ax =plt.subplots(1,3, figsize = (15,4))\n",
    "for j,i in enumerate(performance_predictor_cont[:3]):\n",
    "# Draw a nested barplot by species and sex\n",
    "    sns.barplot(data=data, x=\"dim\", y=i, ax=ax[j], ci=\"sd\", palette=\"dark\", alpha=.6,dodge=False)\n",
    "\n",
    "fig, ax =plt.subplots(1,3, figsize = (15,4))\n",
    "for j,i in enumerate(performance_predictor_cont[3:]):\n",
    "# Draw a nested barplot by species and sex\n",
    "    sns.barplot(data=data, x=\"dim\", y=i, ax=ax[j], ci=\"sd\", palette=\"dark\", alpha=.6,dodge=False)"
   ]
  },
  {
   "cell_type": "markdown",
   "metadata": {},
   "source": [
    "### Plots Robots"
   ]
  },
  {
   "cell_type": "code",
   "execution_count": 43,
   "metadata": {},
   "outputs": [
    {
     "ename": "NameError",
     "evalue": "name 'performance_predictor_cont' is not defined",
     "output_type": "error",
     "traceback": [
      "\u001b[0;31m---------------------------------------------------------------------------\u001b[0m",
      "\u001b[0;31mNameError\u001b[0m                                 Traceback (most recent call last)",
      "\u001b[1;32m/home/elias/catkin_ws/src/forks/arena-evaluation/03_plotting/working_with_large_datasets.ipynb Cell 42'\u001b[0m in \u001b[0;36m<module>\u001b[0;34m\u001b[0m\n\u001b[1;32m      <a href='vscode-notebook-cell:/home/elias/catkin_ws/src/forks/arena-evaluation/03_plotting/working_with_large_datasets.ipynb#ch0000061?line=0'>1</a>\u001b[0m \u001b[39m### scatter bar plot\u001b[39;00m\n\u001b[1;32m      <a href='vscode-notebook-cell:/home/elias/catkin_ws/src/forks/arena-evaluation/03_plotting/working_with_large_datasets.ipynb#ch0000061?line=1'>2</a>\u001b[0m fig, ax \u001b[39m=\u001b[39mplt\u001b[39m.\u001b[39msubplots(\u001b[39m1\u001b[39m,\u001b[39m3\u001b[39m, figsize \u001b[39m=\u001b[39m (\u001b[39m15\u001b[39m,\u001b[39m4\u001b[39m))\n\u001b[0;32m----> <a href='vscode-notebook-cell:/home/elias/catkin_ws/src/forks/arena-evaluation/03_plotting/working_with_large_datasets.ipynb#ch0000061?line=2'>3</a>\u001b[0m \u001b[39mfor\u001b[39;00m j,i \u001b[39min\u001b[39;00m \u001b[39menumerate\u001b[39m(performance_predictor_cont[:\u001b[39m3\u001b[39m]):\n\u001b[1;32m      <a href='vscode-notebook-cell:/home/elias/catkin_ws/src/forks/arena-evaluation/03_plotting/working_with_large_datasets.ipynb#ch0000061?line=3'>4</a>\u001b[0m     g \u001b[39m=\u001b[39msns\u001b[39m.\u001b[39mcatplot(data\u001b[39m=\u001b[39mdata, x\u001b[39m=\u001b[39m\u001b[39m\"\u001b[39m\u001b[39mdim\u001b[39m\u001b[39m\"\u001b[39m, hue\u001b[39m=\u001b[39m\u001b[39m\"\u001b[39m\u001b[39mRobot\u001b[39m\u001b[39m\"\u001b[39m,y\u001b[39m=\u001b[39mi, ax\u001b[39m=\u001b[39max[j], kind\u001b[39m=\u001b[39m\u001b[39m\"\u001b[39m\u001b[39mbar\u001b[39m\u001b[39m\"\u001b[39m);\n\u001b[1;32m      <a href='vscode-notebook-cell:/home/elias/catkin_ws/src/forks/arena-evaluation/03_plotting/working_with_large_datasets.ipynb#ch0000061?line=5'>6</a>\u001b[0m fig, ax \u001b[39m=\u001b[39mplt\u001b[39m.\u001b[39msubplots(\u001b[39m1\u001b[39m,\u001b[39m3\u001b[39m, figsize \u001b[39m=\u001b[39m (\u001b[39m15\u001b[39m,\u001b[39m4\u001b[39m))\n",
      "\u001b[0;31mNameError\u001b[0m: name 'performance_predictor_cont' is not defined"
     ]
    },
    {
     "data": {
      "image/png": "[encoded data removed]",
      "text/plain": [
       "<Figure size 1080x288 with 3 Axes>"
      ]
     },
     "metadata": {},
     "output_type": "display_data"
    }
   ],
   "source": [
    "### scatter bar plot\n",
    "fig, ax =plt.subplots(1,3, figsize = (15,4))\n",
    "for j,i in enumerate(performance_predictor_cont[:3]):\n",
    "    g =sns.catplot(data=data, x=\"dim\", hue=\"Robot\",y=i, ax=ax[j], kind=\"bar\");\n",
    "\n",
    "fig, ax =plt.subplots(1,3, figsize = (15,4))\n",
    "for j,i in enumerate(performance_predictor_cont[:3]):\n",
    "    # sns.catplot(data=data, x=\"dim\", hue=\"Robot\",y=i, ax=ax[j], kind=\"point\")\n",
    "    # sns.violinplot(data=data, x='Robot', hue=\"dim\", y=i, ax=ax[j])\n",
    "\n",
    "    sns.catplot(data=data, x='Robot', y=i, hue=\"dim\", kind=\"violin\", split=True)\n",
    "    sns.catplot(data=data, x='Robot', y=i, hue=\"dim\", kind=\"box\")\n"
   ]
  },
  {
   "cell_type": "markdown",
   "metadata": {},
   "source": [
    "### Plots world"
   ]
  },
  {
   "cell_type": "code",
   "execution_count": 23,
   "metadata": {},
   "outputs": [],
   "source": [
    "relevant_params = ['time', 'success', 'collision', 'vel', 'path_length']"
   ]
  },
  {
   "cell_type": "code",
   "execution_count": null,
   "metadata": {},
   "outputs": [],
   "source": [
    "sns.set_style(\"white\")\n",
    "sns.set_style(\"ticks\")\n",
    "\n",
    "### scatter bar plot\n",
    "# for i in performance_predictor_cont:\n",
    "for i in relevant_params:\n",
    "    # for z in ['time', 'success', 'collision']:\n",
    "    g = sns.catplot(data=data, x='sys', y=i,kind=\"bar\", palette=\"deep\");\n",
    "    # g.savefig(f'23_world-{i}-bar.svg')\n",
    "    # g = sns.catplot(data=data, x='World', y=i, hue='sys', kind=\"violin\", split=True, palette=\"deep\")\n",
    "    # g.savefig(f'23_world-{i}-vio.svg')\n",
    "\n",
    "# for i in performance_predictor_dis:\n",
    "#     g = sns.catplot(data=data, x=\"Planner\", col='World', hue=\"dim\", y=i, kind=\"bar\");\n",
    "#     g = sns.catplot(data=data, x='Planner', y=i, col='World',  hue=\"dim\",  kind=\"violin\", split=True)\n",
    "# fig, ax =plt.subplots(1,3, figsize = (15,4))\n",
    "# for j,i in enumerate(performance_predictor_cont[:3]):\n",
    "#     sns.catplot(data=data, x=\"dim\", hue=\"Robot\",y=i, ax=ax[j], kind=\"point\")\n",
    "#     sns.violinplot(data=data, x='Robot', hue=\"dim\", y=i, ax=ax[j])\n",
    "#     sns.catplot(data=data, x='World', y=i, hue=\"dim\", col=\"Dyn_obs\", kind=\"violin\", split=True)\n",
    "#     sns.catplot(data=data, x='World', y=i, hue=\"dim\", kind=\"box\")\n",
    "#     g = sns.catplot(data=data, x='World', y=i, hue=\"dim\", col=\"Dyn_obs\", kind='bar')\n",
    "#     g = sns.violinplot(data=data, x=i, y=\"dim\", ax=ax[j], bw=.1, cut=4, linewidth=1, inner='quartile')"
   ]
  },
  {
   "cell_type": "code",
   "execution_count": 138,
   "metadata": {},
   "outputs": [
    {
     "data": {
      "image/png": "[encoded data removed]",
      "text/plain": [
       "<Figure size 393.5x432 with 1 Axes>"
      ]
     },
     "metadata": {},
     "output_type": "display_data"
    }
   ],
   "source": [
    "sys = list(data.sys)\n",
    "sns.set_style(\"white\")\n",
    "sns.set_style(\"ticks\")\n",
    "relevant_params = ['time', 'success', 'collision', 'vel', 'path_length']\n",
    "\n",
    "g = sns.catplot(data=data, x='sys', y='collision', hue=\"Planner\", capsize=.2, height=6, aspect=.75,\n",
    "                kind=\"point\", dodge=True,)"
   ]
  }
 ],
 "metadata": {
  "interpreter": {
   "hash": "519085a33ac7c3fb4bca79863b78a5230665425559ed264a60d70802866cd827"
  },
  "kernelspec": {
   "display_name": "Python 3.8.10 ('rosnav')",
   "language": "python",
   "name": "python3"
  },
  "language_info": {
   "codemirror_mode": {
    "name": "ipython",
    "version": 3
   },
   "file_extension": ".py",
   "mimetype": "text/x-python",
   "name": "python",
   "nbconvert_exporter": "python",
   "pygments_lexer": "ipython3",
   "version": "3.8.10"
  },
  "orig_nbformat": 4
 },
 "nbformat": 4,
 "nbformat_minor": 2
}
